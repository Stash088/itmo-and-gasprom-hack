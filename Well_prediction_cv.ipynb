{
  "nbformat": 4,
  "nbformat_minor": 0,
  "metadata": {
    "colab": {
      "provenance": []
    },
    "kernelspec": {
      "name": "python3",
      "display_name": "Python 3"
    },
    "language_info": {
      "name": "python"
    }
  },
  "cells": [
    {
      "cell_type": "code",
      "metadata": {
        "id": "PQBy4vKJKLEg"
      },
      "source": [
        "import numpy as np\n",
        "import pandas as pd\n",
        "from matplotlib import pyplot as plt\n",
        "import seaborn as sns\n",
        "from sklearn.metrics import accuracy_score , f1_score\n",
        "from sklearn.preprocessing import StandardScaler , LabelEncoder\n",
        "from sklearn.model_selection import GridSearchCV , train_test_split"
      ],
      "execution_count": null,
      "outputs": []
    },
    {
      "cell_type": "code",
      "metadata": {
        "id": "TVfnkCZPKssd"
      },
      "source": [
        "data_train = pd.read_csv('/content/Train-dataset.csv')\n",
        "data_valid = pd.read_csv('/content/Validation-dataset.csv')"
      ],
      "execution_count": null,
      "outputs": []
    },
    {
      "cell_type": "code",
      "metadata": {
        "colab": {
          "base_uri": "https://localhost:8080/",
          "height": 204
        },
        "id": "_QOhA4joK6u1",
        "outputId": "00643a8e-6502-457f-dba9-2de9744be06d"
      },
      "source": [
        "data_train.head()"
      ],
      "execution_count": null,
      "outputs": [
        {
          "output_type": "execute_result",
          "data": {
            "text/html": [
              "<div>\n",
              "<style scoped>\n",
              "    .dataframe tbody tr th:only-of-type {\n",
              "        vertical-align: middle;\n",
              "    }\n",
              "\n",
              "    .dataframe tbody tr th {\n",
              "        vertical-align: top;\n",
              "    }\n",
              "\n",
              "    .dataframe thead th {\n",
              "        text-align: right;\n",
              "    }\n",
              "</style>\n",
              "<table border=\"1\" class=\"dataframe\">\n",
              "  <thead>\n",
              "    <tr style=\"text-align: right;\">\n",
              "      <th></th>\n",
              "      <th>WELL</th>\n",
              "      <th>X</th>\n",
              "      <th>Y</th>\n",
              "      <th>MD</th>\n",
              "      <th>GR</th>\n",
              "      <th>RT</th>\n",
              "      <th>CN</th>\n",
              "      <th>DEN</th>\n",
              "      <th>DEPOSITIONAL_ENVIRONMENT</th>\n",
              "      <th>LITH_NAME</th>\n",
              "      <th>LITH_CODE</th>\n",
              "    </tr>\n",
              "  </thead>\n",
              "  <tbody>\n",
              "    <tr>\n",
              "      <th>0</th>\n",
              "      <td>Well-1</td>\n",
              "      <td>0.8179</td>\n",
              "      <td>2.9814</td>\n",
              "      <td>1602.0</td>\n",
              "      <td>83.939</td>\n",
              "      <td>3.166</td>\n",
              "      <td>0.250</td>\n",
              "      <td>2.344</td>\n",
              "      <td>Marine</td>\n",
              "      <td>Marly sandstone</td>\n",
              "      <td>1200</td>\n",
              "    </tr>\n",
              "    <tr>\n",
              "      <th>1</th>\n",
              "      <td>Well-1</td>\n",
              "      <td>0.8179</td>\n",
              "      <td>2.9814</td>\n",
              "      <td>1602.1</td>\n",
              "      <td>84.166</td>\n",
              "      <td>3.135</td>\n",
              "      <td>0.246</td>\n",
              "      <td>2.352</td>\n",
              "      <td>Marine</td>\n",
              "      <td>Marly sandstone</td>\n",
              "      <td>1200</td>\n",
              "    </tr>\n",
              "    <tr>\n",
              "      <th>2</th>\n",
              "      <td>Well-1</td>\n",
              "      <td>0.8179</td>\n",
              "      <td>2.9814</td>\n",
              "      <td>1602.2</td>\n",
              "      <td>85.055</td>\n",
              "      <td>3.089</td>\n",
              "      <td>0.244</td>\n",
              "      <td>2.352</td>\n",
              "      <td>Marine</td>\n",
              "      <td>Marly sandstone</td>\n",
              "      <td>1200</td>\n",
              "    </tr>\n",
              "    <tr>\n",
              "      <th>3</th>\n",
              "      <td>Well-1</td>\n",
              "      <td>0.8179</td>\n",
              "      <td>2.9814</td>\n",
              "      <td>1602.3</td>\n",
              "      <td>86.352</td>\n",
              "      <td>3.042</td>\n",
              "      <td>0.242</td>\n",
              "      <td>2.355</td>\n",
              "      <td>Marine</td>\n",
              "      <td>Sandy marl</td>\n",
              "      <td>1300</td>\n",
              "    </tr>\n",
              "    <tr>\n",
              "      <th>4</th>\n",
              "      <td>Well-1</td>\n",
              "      <td>0.8179</td>\n",
              "      <td>2.9814</td>\n",
              "      <td>1602.4</td>\n",
              "      <td>87.614</td>\n",
              "      <td>3.003</td>\n",
              "      <td>0.241</td>\n",
              "      <td>2.369</td>\n",
              "      <td>Marine</td>\n",
              "      <td>Sandy marl</td>\n",
              "      <td>1300</td>\n",
              "    </tr>\n",
              "  </tbody>\n",
              "</table>\n",
              "</div>"
            ],
            "text/plain": [
              "     WELL       X       Y  ...  DEPOSITIONAL_ENVIRONMENT        LITH_NAME  LITH_CODE\n",
              "0  Well-1  0.8179  2.9814  ...                    Marine  Marly sandstone       1200\n",
              "1  Well-1  0.8179  2.9814  ...                    Marine  Marly sandstone       1200\n",
              "2  Well-1  0.8179  2.9814  ...                    Marine  Marly sandstone       1200\n",
              "3  Well-1  0.8179  2.9814  ...                    Marine       Sandy marl       1300\n",
              "4  Well-1  0.8179  2.9814  ...                    Marine       Sandy marl       1300\n",
              "\n",
              "[5 rows x 11 columns]"
            ]
          },
          "metadata": {
            "tags": []
          },
          "execution_count": 3
        }
      ]
    },
    {
      "cell_type": "code",
      "metadata": {
        "colab": {
          "base_uri": "https://localhost:8080/",
          "height": 204
        },
        "id": "DBmKR-J_aQO6",
        "outputId": "64ff69b2-9ef1-4d9e-8e97-348c48914da6"
      },
      "source": [
        "data_valid.head()"
      ],
      "execution_count": null,
      "outputs": [
        {
          "output_type": "execute_result",
          "data": {
            "text/html": [
              "<div>\n",
              "<style scoped>\n",
              "    .dataframe tbody tr th:only-of-type {\n",
              "        vertical-align: middle;\n",
              "    }\n",
              "\n",
              "    .dataframe tbody tr th {\n",
              "        vertical-align: top;\n",
              "    }\n",
              "\n",
              "    .dataframe thead th {\n",
              "        text-align: right;\n",
              "    }\n",
              "</style>\n",
              "<table border=\"1\" class=\"dataframe\">\n",
              "  <thead>\n",
              "    <tr style=\"text-align: right;\">\n",
              "      <th></th>\n",
              "      <th>WELL</th>\n",
              "      <th>X</th>\n",
              "      <th>Y</th>\n",
              "      <th>MD</th>\n",
              "      <th>GR</th>\n",
              "      <th>RT</th>\n",
              "      <th>CN</th>\n",
              "      <th>DEN</th>\n",
              "      <th>DEPOSITIONAL_ENVIRONMENT</th>\n",
              "    </tr>\n",
              "  </thead>\n",
              "  <tbody>\n",
              "    <tr>\n",
              "      <th>0</th>\n",
              "      <td>Well-X</td>\n",
              "      <td>2.9956</td>\n",
              "      <td>0.0061</td>\n",
              "      <td>897.065</td>\n",
              "      <td>92.7094</td>\n",
              "      <td>4.51768</td>\n",
              "      <td>0.36366</td>\n",
              "      <td>2.2106</td>\n",
              "      <td>Continental</td>\n",
              "    </tr>\n",
              "    <tr>\n",
              "      <th>1</th>\n",
              "      <td>Well-X</td>\n",
              "      <td>2.9956</td>\n",
              "      <td>0.0061</td>\n",
              "      <td>897.165</td>\n",
              "      <td>93.9007</td>\n",
              "      <td>4.30683</td>\n",
              "      <td>0.36951</td>\n",
              "      <td>2.2036</td>\n",
              "      <td>Continental</td>\n",
              "    </tr>\n",
              "    <tr>\n",
              "      <th>2</th>\n",
              "      <td>Well-X</td>\n",
              "      <td>2.9956</td>\n",
              "      <td>0.0061</td>\n",
              "      <td>897.265</td>\n",
              "      <td>94.8446</td>\n",
              "      <td>3.98902</td>\n",
              "      <td>0.37914</td>\n",
              "      <td>2.1969</td>\n",
              "      <td>Continental</td>\n",
              "    </tr>\n",
              "    <tr>\n",
              "      <th>3</th>\n",
              "      <td>Well-X</td>\n",
              "      <td>2.9956</td>\n",
              "      <td>0.0061</td>\n",
              "      <td>897.365</td>\n",
              "      <td>95.6321</td>\n",
              "      <td>3.67028</td>\n",
              "      <td>0.39020</td>\n",
              "      <td>2.1923</td>\n",
              "      <td>Continental</td>\n",
              "    </tr>\n",
              "    <tr>\n",
              "      <th>4</th>\n",
              "      <td>Well-X</td>\n",
              "      <td>2.9956</td>\n",
              "      <td>0.0061</td>\n",
              "      <td>897.465</td>\n",
              "      <td>96.4700</td>\n",
              "      <td>3.63431</td>\n",
              "      <td>0.40098</td>\n",
              "      <td>2.1926</td>\n",
              "      <td>Continental</td>\n",
              "    </tr>\n",
              "  </tbody>\n",
              "</table>\n",
              "</div>"
            ],
            "text/plain": [
              "     WELL       X       Y  ...       CN     DEN  DEPOSITIONAL_ENVIRONMENT\n",
              "0  Well-X  2.9956  0.0061  ...  0.36366  2.2106               Continental\n",
              "1  Well-X  2.9956  0.0061  ...  0.36951  2.2036               Continental\n",
              "2  Well-X  2.9956  0.0061  ...  0.37914  2.1969               Continental\n",
              "3  Well-X  2.9956  0.0061  ...  0.39020  2.1923               Continental\n",
              "4  Well-X  2.9956  0.0061  ...  0.40098  2.1926               Continental\n",
              "\n",
              "[5 rows x 9 columns]"
            ]
          },
          "metadata": {
            "tags": []
          },
          "execution_count": 4
        }
      ]
    },
    {
      "cell_type": "markdown",
      "metadata": {
        "id": "E5D26H3UPgBF"
      },
      "source": [
        "## checking for Nan elements"
      ]
    },
    {
      "cell_type": "code",
      "metadata": {
        "id": "ykHaj39dM_jo",
        "colab": {
          "base_uri": "https://localhost:8080/"
        },
        "outputId": "eea96cfe-d229-4e27-9e7d-38d2095c91d6"
      },
      "source": [
        "data_train.isnull().sum()"
      ],
      "execution_count": null,
      "outputs": [
        {
          "output_type": "execute_result",
          "data": {
            "text/plain": [
              "WELL                        0\n",
              "X                           0\n",
              "Y                           0\n",
              "MD                          0\n",
              "GR                          0\n",
              "RT                          0\n",
              "CN                          0\n",
              "DEN                         0\n",
              "DEPOSITIONAL_ENVIRONMENT    0\n",
              "LITH_NAME                   0\n",
              "LITH_CODE                   0\n",
              "dtype: int64"
            ]
          },
          "metadata": {
            "tags": []
          },
          "execution_count": 5
        }
      ]
    },
    {
      "cell_type": "markdown",
      "metadata": {
        "id": "XfIIdygiPlw9"
      },
      "source": [
        "## Categorical and numerical features"
      ]
    },
    {
      "cell_type": "code",
      "metadata": {
        "id": "jCjxDt8GNgsa"
      },
      "source": [
        "cat_cols = ['WELL',\n",
        "            'DEPOSITIONAL_ENVIRONMENT',\n",
        "            'LITH_NAME']\n",
        "\n",
        "num_cols = ['X',\n",
        "            'Y',\n",
        "            'MD',\n",
        "            'GR',\n",
        "            'RT',\n",
        "            'CN',\n",
        "            'DEN']"
      ],
      "execution_count": null,
      "outputs": []
    },
    {
      "cell_type": "markdown",
      "metadata": {
        "id": "CqoKtIiBPxJt"
      },
      "source": [
        "## Displaying data for numerical features"
      ]
    },
    {
      "cell_type": "code",
      "metadata": {
        "colab": {
          "base_uri": "https://localhost:8080/",
          "height": 1000
        },
        "id": "NgjW2n65PJNi",
        "outputId": "7623aa0e-f645-4396-e0bc-2b0e31e99719"
      },
      "source": [
        "plt.figure(figsize=(8, 30), dpi=100)\n",
        "n = len(num_cols)\n",
        "for i, col in enumerate(num_cols):\n",
        "    plt.subplot(2*n, 2, 2*i+1)\n",
        "    plt.hist(data_train[col], bins=10)\n",
        "    plt.title(col)\n",
        "    plt.subplot(2*n, 2, 2*i+2)\n",
        "    plt.boxplot(data_train[col].values)"
      ],
      "execution_count": null,
      "outputs": [
        {
          "output_type": "display_data",
          "data": {
            "image/png": "[encoded data removed]",
            "text/plain": [
              "<Figure size 800x3000 with 14 Axes>"
            ]
          },
          "metadata": {
            "tags": [],
            "needs_background": "light"
          }
        }
      ]
    },
    {
      "cell_type": "markdown",
      "metadata": {
        "id": "NJEC9_C9QmH_"
      },
      "source": [
        "## Displaying data for categorical features"
      ]
    },
    {
      "cell_type": "code",
      "metadata": {
        "id": "HZUG-upwP7FM"
      },
      "source": [
        "plt.figure(figsize=(25, 100), dpi=100)\n",
        "n = len(cat_cols)\n",
        "for i, col in enumerate(cat_cols):\n",
        "    value_counts = data_train[col].value_counts()\n",
        "    plt.subplot(2*n,2,2*i+1)\n",
        "    plt.pie(value_counts, labels=value_counts.index)\n",
        "    plt.subplot(2*n,2,2*i+2)\n",
        "    plt.bar(np.arange(len(value_counts)), value_counts, tick_label=value_counts.index)\n",
        "    plt.ylabel(col)"
      ],
      "execution_count": null,
      "outputs": []
    },
    {
      "cell_type": "code",
      "metadata": {
        "id": "H1AEJc_kRAtL",
        "colab": {
          "base_uri": "https://localhost:8080/",
          "height": 1000
        },
        "outputId": "b65d1e40-e954-4b1d-a10d-925eb21eae2c"
      },
      "source": [
        "n = len(cat_cols)\n",
        "for i, col in enumerate(cat_cols):\n",
        "    value_counts = data_train[col].value_counts()\n",
        "    plt.subplot(n,1,i+1)\n",
        "    value_counts.plot(kind=\"barh\", figsize=(15, 60))\n",
        "    plt.ylabel(col)"
      ],
      "execution_count": null,
      "outputs": [
        {
          "output_type": "display_data",
          "data": {
            "image/png": "[encoded data removed]",
            "text/plain": [
              "<Figure size 1080x4320 with 3 Axes>"
            ]
          },
          "metadata": {
            "tags": [],
            "needs_background": "light"
          }
        }
      ]
    },
    {
      "cell_type": "code",
      "metadata": {
        "colab": {
          "base_uri": "https://localhost:8080/",
          "height": 204
        },
        "id": "ho2Kipf7fcSS",
        "outputId": "2696eec6-88b8-42ea-d775-0cb029af9743"
      },
      "source": [
        "data_train.head()"
      ],
      "execution_count": null,
      "outputs": [
        {
          "output_type": "execute_result",
          "data": {
            "text/html": [
              "<div>\n",
              "<style scoped>\n",
              "    .dataframe tbody tr th:only-of-type {\n",
              "        vertical-align: middle;\n",
              "    }\n",
              "\n",
              "    .dataframe tbody tr th {\n",
              "        vertical-align: top;\n",
              "    }\n",
              "\n",
              "    .dataframe thead th {\n",
              "        text-align: right;\n",
              "    }\n",
              "</style>\n",
              "<table border=\"1\" class=\"dataframe\">\n",
              "  <thead>\n",
              "    <tr style=\"text-align: right;\">\n",
              "      <th></th>\n",
              "      <th>WELL</th>\n",
              "      <th>X</th>\n",
              "      <th>Y</th>\n",
              "      <th>MD</th>\n",
              "      <th>GR</th>\n",
              "      <th>RT</th>\n",
              "      <th>CN</th>\n",
              "      <th>DEN</th>\n",
              "      <th>DEPOSITIONAL_ENVIRONMENT</th>\n",
              "      <th>LITH_NAME</th>\n",
              "      <th>LITH_CODE</th>\n",
              "    </tr>\n",
              "  </thead>\n",
              "  <tbody>\n",
              "    <tr>\n",
              "      <th>0</th>\n",
              "      <td>Well-1</td>\n",
              "      <td>0.8179</td>\n",
              "      <td>2.9814</td>\n",
              "      <td>1602.0</td>\n",
              "      <td>83.939</td>\n",
              "      <td>3.166</td>\n",
              "      <td>0.250</td>\n",
              "      <td>2.344</td>\n",
              "      <td>Marine</td>\n",
              "      <td>Marly sandstone</td>\n",
              "      <td>1200</td>\n",
              "    </tr>\n",
              "    <tr>\n",
              "      <th>1</th>\n",
              "      <td>Well-1</td>\n",
              "      <td>0.8179</td>\n",
              "      <td>2.9814</td>\n",
              "      <td>1602.1</td>\n",
              "      <td>84.166</td>\n",
              "      <td>3.135</td>\n",
              "      <td>0.246</td>\n",
              "      <td>2.352</td>\n",
              "      <td>Marine</td>\n",
              "      <td>Marly sandstone</td>\n",
              "      <td>1200</td>\n",
              "    </tr>\n",
              "    <tr>\n",
              "      <th>2</th>\n",
              "      <td>Well-1</td>\n",
              "      <td>0.8179</td>\n",
              "      <td>2.9814</td>\n",
              "      <td>1602.2</td>\n",
              "      <td>85.055</td>\n",
              "      <td>3.089</td>\n",
              "      <td>0.244</td>\n",
              "      <td>2.352</td>\n",
              "      <td>Marine</td>\n",
              "      <td>Marly sandstone</td>\n",
              "      <td>1200</td>\n",
              "    </tr>\n",
              "    <tr>\n",
              "      <th>3</th>\n",
              "      <td>Well-1</td>\n",
              "      <td>0.8179</td>\n",
              "      <td>2.9814</td>\n",
              "      <td>1602.3</td>\n",
              "      <td>86.352</td>\n",
              "      <td>3.042</td>\n",
              "      <td>0.242</td>\n",
              "      <td>2.355</td>\n",
              "      <td>Marine</td>\n",
              "      <td>Sandy marl</td>\n",
              "      <td>1300</td>\n",
              "    </tr>\n",
              "    <tr>\n",
              "      <th>4</th>\n",
              "      <td>Well-1</td>\n",
              "      <td>0.8179</td>\n",
              "      <td>2.9814</td>\n",
              "      <td>1602.4</td>\n",
              "      <td>87.614</td>\n",
              "      <td>3.003</td>\n",
              "      <td>0.241</td>\n",
              "      <td>2.369</td>\n",
              "      <td>Marine</td>\n",
              "      <td>Sandy marl</td>\n",
              "      <td>1300</td>\n",
              "    </tr>\n",
              "  </tbody>\n",
              "</table>\n",
              "</div>"
            ],
            "text/plain": [
              "     WELL       X       Y  ...  DEPOSITIONAL_ENVIRONMENT        LITH_NAME  LITH_CODE\n",
              "0  Well-1  0.8179  2.9814  ...                    Marine  Marly sandstone       1200\n",
              "1  Well-1  0.8179  2.9814  ...                    Marine  Marly sandstone       1200\n",
              "2  Well-1  0.8179  2.9814  ...                    Marine  Marly sandstone       1200\n",
              "3  Well-1  0.8179  2.9814  ...                    Marine       Sandy marl       1300\n",
              "4  Well-1  0.8179  2.9814  ...                    Marine       Sandy marl       1300\n",
              "\n",
              "[5 rows x 11 columns]"
            ]
          },
          "metadata": {
            "tags": []
          },
          "execution_count": 10
        }
      ]
    },
    {
      "cell_type": "code",
      "metadata": {
        "id": "4MEpN-eVePCV"
      },
      "source": [
        "le = LabelEncoder()\n",
        "data_train['WELL'] = le.fit_transform(data_train['WELL'])\n",
        "data_train['DEPOSITIONAL_ENVIRONMENT'] = le.fit_transform(data_train['DEPOSITIONAL_ENVIRONMENT'])\n",
        "data_train['LITH_NAME'] = le.fit_transform(data_train['LITH_NAME'])\n",
        "data_valid['DEPOSITIONAL_ENVIRONMENT'] = le.fit_transform(data_valid['DEPOSITIONAL_ENVIRONMENT'])\n",
        "data_valid['WELL'] = le.fit_transform(data_valid['WELL'])"
      ],
      "execution_count": null,
      "outputs": []
    },
    {
      "cell_type": "code",
      "metadata": {
        "id": "OCqq3h48pP3I"
      },
      "source": [
        "Feature = data_train[['MD','GR', 'RT', 'DEN', 'CN','DEPOSITIONAL_ENVIRONMENT']]"
      ],
      "execution_count": null,
      "outputs": []
    },
    {
      "cell_type": "code",
      "metadata": {
        "id": "tIBb8EwWpNxV"
      },
      "source": [
        "X = Feature\n",
        "scaler = StandardScaler().fit(X)\n",
        "X = scaler.transform(X)"
      ],
      "execution_count": null,
      "outputs": []
    },
    {
      "cell_type": "code",
      "metadata": {
        "id": "fr4FWRsrSx_M"
      },
      "source": [
        "y = data_train['LITH_CODE']\n",
        "X_train, X_test, y_train, y_test = train_test_split(X, y ,test_size = 0.2)"
      ],
      "execution_count": null,
      "outputs": []
    },
    {
      "cell_type": "code",
      "metadata": {
        "id": "y8b3j21mWIQy"
      },
      "source": [
        "from sklearn.neighbors import KNeighborsClassifier"
      ],
      "execution_count": null,
      "outputs": []
    },
    {
      "cell_type": "code",
      "metadata": {
        "id": "vCXxKuiDoAHt"
      },
      "source": [
        "knn = KNeighborsClassifier()\n",
        "knn.fit(X_train,y_train)\n",
        "y_pred = knn.predict(X_test)"
      ],
      "execution_count": null,
      "outputs": []
    },
    {
      "cell_type": "code",
      "metadata": {
        "colab": {
          "base_uri": "https://localhost:8080/"
        },
        "id": "3qasm7ANrAHz",
        "outputId": "e2738522-3a8c-4a49-e26e-c2f65bdac953"
      },
      "source": [
        "print(\"Train set accuracy: \", round(f1_score(y_train, knn.predict(X_train), average='weighted'), 2))\n",
        "print(\"Test set accuracy: \", round(f1_score(y_test, y_pred, average='weighted'), 2))"
      ],
      "execution_count": null,
      "outputs": [
        {
          "output_type": "stream",
          "text": [
            "Train set accuracy:  0.89\n",
            "Test set accuracy:  0.83\n"
          ],
          "name": "stdout"
        }
      ]
    },
    {
      "cell_type": "code",
      "metadata": {
        "id": "wQRwDm_iqzl0"
      },
      "source": [
        "params = {'n_neighbors' : [3,4,5,6,7,8,9,10,11]}"
      ],
      "execution_count": null,
      "outputs": []
    },
    {
      "cell_type": "code",
      "metadata": {
        "colab": {
          "base_uri": "https://localhost:8080/"
        },
        "id": "obdtR6_Pq6j0",
        "outputId": "02e39d11-f122-4815-fc00-b8baa419a6f8"
      },
      "source": [
        "knn_cv = GridSearchCV(knn,params , n_jobs= - 1 , cv = 5)\n",
        "knn_cv.fit(X_train,y_train)\n",
        "y_pred_cv = knn_cv.predict(X_test)"
      ],
      "execution_count": null,
      "outputs": [
        {
          "output_type": "stream",
          "text": [
            "/usr/local/lib/python3.7/dist-packages/sklearn/model_selection/_split.py:667: UserWarning: The least populated class in y has only 2 members, which is less than n_splits=5.\n",
            "  % (min_groups, self.n_splits)), UserWarning)\n"
          ],
          "name": "stderr"
        }
      ]
    },
    {
      "cell_type": "code",
      "metadata": {
        "colab": {
          "base_uri": "https://localhost:8080/"
        },
        "id": "hPAqbvKUoXSi",
        "outputId": "aba283bc-13a6-4de1-95b7-c52dfce2122a"
      },
      "source": [
        "print(\"Train set accuracy: \", round(f1_score(y_train, knn_cv.predict(X_train), average='weighted'), 2))\n",
        "print(\"Test set accuracy: \", round(f1_score(y_test, y_pred_cv, average='weighted'), 2))"
      ],
      "execution_count": null,
      "outputs": [
        {
          "output_type": "stream",
          "text": [
            "Train set accuracy:  0.87\n",
            "Test set accuracy:  0.82\n"
          ],
          "name": "stdout"
        }
      ]
    },
    {
      "cell_type": "code",
      "metadata": {
        "id": "qZTAoLJLsVeT"
      },
      "source": [
        "!pip install catboost"
      ],
      "execution_count": null,
      "outputs": []
    },
    {
      "cell_type": "code",
      "metadata": {
        "id": "R7aYDBqGstaJ"
      },
      "source": [
        "from catboost import CatBoostClassifier"
      ],
      "execution_count": null,
      "outputs": []
    },
    {
      "cell_type": "code",
      "metadata": {
        "id": "6HI6bOEys0ua"
      },
      "source": [
        "cat = CatBoostClassifier()\n",
        "cat.fit(X_train,y_train)\n",
        "y_pred_cat = cat.predict(X_test)"
      ],
      "execution_count": null,
      "outputs": []
    },
    {
      "cell_type": "code",
      "metadata": {
        "colab": {
          "base_uri": "https://localhost:8080/"
        },
        "id": "Yh-cDxAjs9gz",
        "outputId": "8480c8f8-7fcb-45a2-fda6-a2545b3b2b13"
      },
      "source": [
        "print(\"Train set accuracy: \", round(f1_score(y_train, cat.predict(X_train), average='weighted'), 2))\n",
        "print(\"Test set accuracy: \", round(f1_score(y_test, y_pred_cat, average='weighted'), 2))"
      ],
      "execution_count": null,
      "outputs": [
        {
          "output_type": "stream",
          "text": [
            "Train set accuracy:  0.93\n",
            "Test set accuracy:  0.89\n"
          ],
          "name": "stdout"
        }
      ]
    },
    {
      "cell_type": "code",
      "metadata": {
        "id": "bQM3krj4JFDz"
      },
      "source": [
        "grid = {'learning_rate': [0.10, 0.15, 0.20],\n",
        "        'depth': [3, 4, 5, 6 , 7 , 8],\n",
        "        'l2_leaf_reg': [1, 3],\n",
        "        'n_estimators': [100, 500]}\n",
        "classifier = GridSearchCV(CatBoostClassifier(verbose = True , task_type='GPU',devices='0:1'), \n",
        "                          param_grid = grid, cv = 5)\n",
        "classifier.fit(X_train, y_train)\n",
        "y_pred_cv = classifier.predict(X_test)"
      ],
      "execution_count": null,
      "outputs": []
    },
    {
      "cell_type": "code",
      "metadata": {
        "colab": {
          "base_uri": "https://localhost:8080/"
        },
        "id": "vg9tkqjsJmNX",
        "outputId": "c7b7f792-f4f0-46db-e488-fbc21d51af16"
      },
      "source": [
        "print(\"Train set accuracy: \", round(f1_score(y_train, classifier.predict(X_train), average='weighted'), 2))\n",
        "print(\"Test set accuracy: \", round(f1_score(y_test, y_pred_cv, average='weighted'), 2))"
      ],
      "execution_count": null,
      "outputs": [
        {
          "output_type": "stream",
          "text": [
            "Train set accuracy:  0.94\n",
            "Test set accuracy:  0.89\n"
          ],
          "name": "stdout"
        }
      ]
    },
    {
      "cell_type": "code",
      "metadata": {
        "id": "VFqBANsQoinU"
      },
      "source": [
        "X_pred = scaler.transform(data_valid[['MD','GR', 'RT', 'DEN', 'CN', 'DEPOSITIONAL_ENVIRONMENT']])\n",
        "pred = classifier.predict(X_pred)\n",
        "pred[:5]\n",
        "np.savetxt('prediction_cv.csv', pred, delimiter=',', encoding='utf-8')"
      ],
      "execution_count": null,
      "outputs": []
    },
    {
      "cell_type": "code",
      "metadata": {
        "id": "Tu0lgZS5uQs4"
      },
      "source": [
        "pred[:150]"
      ],
      "execution_count": null,
      "outputs": []
    },
    {
      "cell_type": "code",
      "metadata": {
        "id": "nlGUGsN3f36I"
      },
      "source": [],
      "execution_count": null,
      "outputs": []
    }
  ]
}